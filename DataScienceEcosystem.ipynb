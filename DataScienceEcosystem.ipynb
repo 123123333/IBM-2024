{
 "cells": [
  {
   "cell_type": "markdown",
   "id": "e95a9771-79ba-49dd-84df-f91212a252f4",
   "metadata": {},
   "source": [
    "# Data Science Tools and Ecosystem"
   ]
  },
  {
   "cell_type": "markdown",
   "id": "93cac2bc-163e-4bd3-a6eb-117e13ec8d5e",
   "metadata": {},
   "source": [
    "In this notebook, Data Science Tools and Ecosystem are summarized."
   ]
  },
  {
   "cell_type": "markdown",
   "id": "1900f7df-40bf-4a3f-9327-75e6bc3f9d99",
   "metadata": {},
   "source": [
    "Some of the popular languages that Data Scientists use are:\n",
    "1. R\n",
    "2. Python\n",
    "3. SQL\n",
    "4. Julia"
   ]
  },
  {
   "cell_type": "markdown",
   "id": "a641a4ff-a72f-48e6-b969-30a237e16b25",
   "metadata": {},
   "source": [
    "Some of the commonly used libraries used by Data Scientists include:\n",
    "1. Pandas\n",
    "2. Scipy\n",
    "3. Numpy"
   ]
  },
  {
   "cell_type": "markdown",
   "id": "70d5195a-c9a2-4b8e-b5f8-7956ea1900d6",
   "metadata": {},
   "source": [
    "|Data Science Tools|\n",
    "|---|\n",
    "|Mysql Woorkbench|\n",
    "|Jupyter|\n",
    "|Rstudio|"
   ]
  },
  {
   "cell_type": "code",
   "execution_count": null,
   "id": "f2390d64-2a7a-45b9-9bbe-57c4d91d9020",
   "metadata": {},
   "outputs": [],
   "source": []
  },
  {
   "cell_type": "markdown",
   "id": "a003c893-9646-41cd-8d80-082a91b85b1c",
   "metadata": {},
   "source": [
    "### Below are a few examples of evaluating arithmetic expressions in Python"
   ]
  },
  {
   "cell_type": "code",
   "execution_count": 1,
   "id": "0a3ecf19-9215-4f26-9af1-a0bbc4d90321",
   "metadata": {},
   "outputs": [
    {
     "data": {
      "text/plain": [
       "17"
      ]
     },
     "execution_count": 1,
     "metadata": {},
     "output_type": "execute_result"
    }
   ],
   "source": [
    "#This a simple arithmetic expression to mutiply then add integers\n",
    "(3*4)+5"
   ]
  },
  {
   "cell_type": "code",
   "execution_count": 2,
   "id": "8ba82089-6f48-44ff-9edf-57cc215f4e22",
   "metadata": {},
   "outputs": [
    {
     "data": {
      "text/plain": [
       "3.3333333333333335"
      ]
     },
     "execution_count": 2,
     "metadata": {},
     "output_type": "execute_result"
    }
   ],
   "source": [
    "#This will convert 200 minutes to hours by diving by 60\n",
    "200/60"
   ]
  },
  {
   "cell_type": "markdown",
   "id": "f448148a-6b07-4ad2-bea3-dc8512ac93e1",
   "metadata": {},
   "source": [
    "**Objectives:**\n",
    "* List popular languages for Data Science\n",
    "* List libraries for Data Science\n",
    "* List Tools for Data Science"
   ]
  },
  {
   "cell_type": "markdown",
   "id": "25c1cb7f-a909-4fde-b468-2596b741f962",
   "metadata": {},
   "source": [
    "## Author\n",
    "Chenzhi Wang"
   ]
  },
  {
   "cell_type": "code",
   "execution_count": null,
   "id": "ae51f019-8b27-42f2-908c-378a0dc5e10e",
   "metadata": {},
   "outputs": [],
   "source": []
  }
 ],
 "metadata": {
  "kernelspec": {
   "display_name": "Python 3 (ipykernel)",
   "language": "python",
   "name": "python3"
  },
  "language_info": {
   "codemirror_mode": {
    "name": "ipython",
    "version": 3
   },
   "file_extension": ".py",
   "mimetype": "text/x-python",
   "name": "python",
   "nbconvert_exporter": "python",
   "pygments_lexer": "ipython3",
   "version": "3.11.7"
  }
 },
 "nbformat": 4,
 "nbformat_minor": 5
}
